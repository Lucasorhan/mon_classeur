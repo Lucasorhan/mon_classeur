{
 "cells": [
  {
   "cell_type": "code",
   "execution_count": 3,
   "metadata": {},
   "outputs": [
    {
     "name": "stdout",
     "output_type": "stream",
     "text": [
      "         sexe        preusuel annais dpt  nombre\n",
      "0           1  _PRENOMS_RARES   1900  02       7\n",
      "1           1  _PRENOMS_RARES   1900  04       9\n",
      "2           1  _PRENOMS_RARES   1900  05       8\n",
      "3           1  _PRENOMS_RARES   1900  06      23\n",
      "4           1  _PRENOMS_RARES   1900  07       9\n",
      "...       ...             ...    ...  ..     ...\n",
      "3727548     2             ZYA   2018  59       3\n",
      "3727549     2             ZYA   XXXX  XX     264\n",
      "3727550     2            ZYNA   2013  93       3\n",
      "3727551     2            ZYNA   XXXX  XX      59\n",
      "3727552     2           ZYNEB   XXXX  XX     119\n",
      "\n",
      "[3727553 rows x 5 columns]\n"
     ]
    }
   ],
   "source": [
    "import pandas\n",
    "prenoms = pandas.read_csv(\"dpt2020.csv\",sep=\";\")\n",
    "print(prenoms)\n"
   ]
  },
  {
   "cell_type": "code",
   "execution_count": null,
   "metadata": {},
   "outputs": [],
   "source": [
    "import pandas\n",
    "prenoms = pandas.read_csv(\"dpt2020.csv\", sep=\";\")\n",
    "recherche = prenoms.loc[:,\"annais\"]\n",
    "print(recherche)\n"
   ]
  },
  {
   "cell_type": "code",
   "execution_count": 5,
   "metadata": {},
   "outputs": [
    {
     "name": "stdout",
     "output_type": "stream",
     "text": [
      "         sexe        preusuel annais dpt  nombre\n",
      "10683       1  _PRENOMS_RARES   2019  01     100\n",
      "10684       1  _PRENOMS_RARES   2019  02     128\n",
      "10685       1  _PRENOMS_RARES   2019  03     100\n",
      "10686       1  _PRENOMS_RARES   2019  04      25\n",
      "10687       1  _PRENOMS_RARES   2019  05      28\n",
      "...       ...             ...    ...  ..     ...\n",
      "3727446     2            ZOYA   2019  93       3\n",
      "3727457     2         ZULEYHA   2019  91       3\n",
      "3727529     2           ZUMRA   2019  71       3\n",
      "3727531     2           ZÜMRA   2019  01       3\n",
      "3727532     2           ZÜMRA   2019  91       3\n",
      "\n",
      "[50539 rows x 5 columns]\n"
     ]
    }
   ],
   "source": [
    "import pandas\n",
    "prenoms = pandas.read_csv(\"dpt2020.csv\", sep=\";\")\n",
    "recherche = prenoms.loc[(prenoms['annais'] == \"2019\") , :]\n",
    "print(recherche)\n"
   ]
  },
  {
   "cell_type": "code",
   "execution_count": 7,
   "metadata": {
    "scrolled": true
   },
   "outputs": [
    {
     "name": "stdout",
     "output_type": "stream",
     "text": [
      "         sexe        preusuel annais dpt  nombre\n",
      "28          1  _PRENOMS_RARES   1900  38       5\n",
      "105         1  _PRENOMS_RARES   1901  38       6\n",
      "189         1  _PRENOMS_RARES   1902  38       7\n",
      "273         1  _PRENOMS_RARES   1903  38       4\n",
      "357         1  _PRENOMS_RARES   1904  38      13\n",
      "...       ...             ...    ...  ..     ...\n",
      "3727225     2            ZORA   1966  38       3\n",
      "3727244     2            ZORA   1971  38       4\n",
      "3727379     2         ZOUBIDA   1974  38       3\n",
      "3727431     2        ZOULIKHA   1982  38       3\n",
      "3727449     2         ZUBEYDE   1983  38       3\n",
      "\n",
      "[54792 rows x 5 columns]\n"
     ]
    }
   ],
   "source": [
    "import pandas\n",
    "prenoms = pandas.read_csv(\"dpt2020.csv\", sep=\";\")\n",
    "recherche = prenoms.loc[(prenoms['dpt'] == \"38\"), :]\n",
    "print(recherche)\n"
   ]
  },
  {
   "cell_type": "code",
   "execution_count": 15,
   "metadata": {
    "scrolled": false
   },
   "outputs": [
    {
     "name": "stdout",
     "output_type": "stream",
     "text": [
      "         sexe        preusuel annais dpt  nombre\n",
      "10720       1  _PRENOMS_RARES   2019  38     347\n",
      "12232       1           AARON   2019  38      43\n",
      "12554       1             ABD   2019  38       4\n",
      "13209       1        ABDALLAH   2019  38       4\n",
      "15697       1      ABDELKADER   2019  38       3\n",
      "...       ...             ...    ...  ..     ...\n",
      "3718934     2           ZAHRA   2019  38       4\n",
      "3721426     2           ZÉLIE   2019  38      17\n",
      "3721835     2          ZEYNEB   2019  38       3\n",
      "3722579     2            ZINA   2019  38       3\n",
      "3726042     2             ZOÉ   2019  38      28\n",
      "\n",
      "[920 rows x 5 columns]\n"
     ]
    }
   ],
   "source": [
    "import pandas\n",
    "prenoms = pandas.read_csv(\"dpt2020.csv\", sep=\";\")\n",
    "recherche = prenoms.loc[(prenoms['dpt'] == \"38\") & (prenoms['annais'] == \"2019\"), :]\n",
    "print (recherche)"
   ]
  },
  {
   "cell_type": "code",
   "execution_count": 35,
   "metadata": {
    "scrolled": true
   },
   "outputs": [
    {
     "name": "stdout",
     "output_type": "stream",
     "text": [
      "         sexe preusuel annais dpt  nombre\n",
      "1032514     1    LOUIS   2006  29      57\n"
     ]
    }
   ],
   "source": [
    "import pandas\n",
    "prenoms = pandas.read_csv(\"dpt2020.csv\", sep=\";\")\n",
    "recherche = prenoms.loc[(prenoms['dpt'] == \"29\") & (prenoms['annais'] == \"2006\"), :]\n",
    "rech= recherche.loc[(recherche['preusuel'] == \"LOUIS\"), :]\n",
    "tri = rech.sort_values(by=\"nombre\")\n",
    "print(tri)\n"
   ]
  }
 ],
 "metadata": {
  "kernelspec": {
   "display_name": "Python 3",
   "language": "python",
   "name": "python3"
  },
  "language_info": {
   "codemirror_mode": {
    "name": "ipython",
    "version": 3
   },
   "file_extension": ".py",
   "mimetype": "text/x-python",
   "name": "python",
   "nbconvert_exporter": "python",
   "pygments_lexer": "ipython3",
   "version": "3.9.2+"
  }
 },
 "nbformat": 4,
 "nbformat_minor": 2
}
