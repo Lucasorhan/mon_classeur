{
 "cells": [
  {
   "cell_type": "markdown",
   "metadata": {},
   "source": [
    "## Fonctions Logiques - Exercice d'application  Google Doodle:"
   ]
  },
  {
   "cell_type": "code",
   "execution_count": null,
   "metadata": {},
   "outputs": [],
   "source": []
  },
  {
   "cell_type": "markdown",
   "metadata": {},
   "source": [
    "<h3 class='fa fa-graduation-cap' style=\"color: purple\">  <strong>Répondre</strong> aux questions suivantes :</h3>\n",
    "\n",
    "A qui Google rendait hommage le 2 novembre 2015 en mettant sur la page d'accueil de son moteur de recherche le doodle ci-dessous ?\n",
    "\n",
    "<br>\n",
    "<img  src=\"https://ericecmorlaix.github.io/img/doodle_George.gif\" alt=\"doodle_George\">\n",
    "<br>\n",
    "\n",
    "Indice : lorsque l'on cliquait sur l'image, cela ouvrait [cette page de résultats de recherche...](https://www.google.fr/search?q=George+Boole&oi=ddle&ct=george-booles-200th-birthday-5636122663190528&hl=fr)\n",
    "\n",
    "\n",
    "Quelles étaient les raisons de cet hommage rendu par Google ?\n",
    "\n",
    "> Les raisons etaient pour George Boole. Qui le deux novembre 1815 créa la logique moderne desormais appelée algèbre de Bolle\n",
    "......................................................\n",
    "\n",
    "Qu'est-ce qu'une variable booléenne ?\n",
    "\n",
    "> C'est une type de variable à deux états, destiné a representer les valeurs de verite et l'algebre booleene.......................................................\n",
    "\n",
    " Qu'elles sont les principales fonctions (opérations) booléennes ?\n",
    "\n",
    "> La complexité et en cryptologie.......................................................\n",
    "\n",
    "Expliquer en observant le gif animé du doodle ci-dessus, les conditions pour que :\n",
    "\n",
    "- le G s'allume en bleu  :\n",
    "\n",
    "> il faut que le OR soit en jaune et les autres lettres en gris......................................................\n",
    "\n",
    "- le deuxième o s'allume en jaune :\n",
    "\n",
    "> il faut que le G soit en bleu et qu'il y ait x dans le rond en noir.......................................................\n",
    "\n",
    "- le l s'allume en vert :\n",
    "\n",
    "> il faut qu'il y ait les deux O allumer et x dans le rond en noir .......................................................\n",
    "\n",
    "- le e s'allume en rouge :\n",
    "\n",
    "> qu'il y ait les deux O allumer et pqs de x dans le rond noir ou que le l soit allumer sans rien d'autre.....................................................\n",
    "\n",
    "- le premier o s'allume en rouge :\n",
    "\n",
    "> que le O soit allumer et le e en rouge ou qu'il y ait le O allumer et le l olus un x dans le rond en noir......................................................\n",
    "\n"
   ]
  },
  {
   "cell_type": "code",
   "execution_count": null,
   "metadata": {},
   "outputs": [],
   "source": [
    "\n",
    "\n"
   ]
  }
 ],
 "metadata": {
  "kernelspec": {
   "display_name": "Python 3",
   "language": "python",
   "name": "python3"
  },
  "language_info": {
   "codemirror_mode": {
    "name": "ipython",
    "version": 3
   },
   "file_extension": ".py",
   "mimetype": "text/x-python",
   "name": "python",
   "nbconvert_exporter": "python",
   "pygments_lexer": "ipython3",
   "version": "3.9.2+"
  },
  "vscode": {
   "interpreter": {
    "hash": "c813da0d88532624e95401f841607d640ef6d724b81c00ab0d0885f617a921c3"
   }
  }
 },
 "nbformat": 4,
 "nbformat_minor": 2
}
